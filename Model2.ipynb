{
 "cells": [
  {
   "cell_type": "code",
   "execution_count": null,
   "metadata": {},
   "outputs": [],
   "source": [
    "# wrapper feature selection"
   ]
  },
  {
   "cell_type": "code",
   "execution_count": null,
   "metadata": {},
   "outputs": [],
   "source": [
    "def select_best_feature(data, k_features = 14, forward=False):\n",
    "    features = data.drop('Result',axis =1)\n",
    "    targets = data['Result']\n",
    "    \n",
    "    backwardModel=sfs(RandomForestRegressor(),k_features,forward,verbose=2,cv=5,n_jobs=-1,scoring='r2')\n",
    "    backwardModel.fit(np.array(features),targets)\n",
    "    \n",
    "    print('Selected features index are : ',backwardModel.k_feature_idx_)\n",
    "    \n",
    "    selected_cols = data.columns[list(backwardModel.k_feature_idx_)]\n",
    "    print(selected_cols)\n",
    "    data_new = pd.concat([features[selected_cols.values], targets], axis=1, join='inner')\n",
    "    return data_new"
   ]
  },
  {
   "cell_type": "code",
   "execution_count": null,
   "metadata": {},
   "outputs": [],
   "source": [
    "def prepare_data(data, flag=False):\n",
    "    y = data['Result']\n",
    "    if flag:\n",
    "        data = select_best_feature(data)\n",
    "    x = data.drop('Result',axis =1)\n",
    "    \n",
    "    x_train, x_test, y_train, y_test = train_test_split(x, y, test_size= 0.3, random_state=42)\n",
    "    return x_train, x_test, y_train, y_test"
   ]
  },
  {
   "cell_type": "code",
   "execution_count": null,
   "metadata": {},
   "outputs": [],
   "source": [
    "x_train, x_test, y_train, y_test = prepare_data(data=data,flag=False)"
   ]
  },
  {
   "cell_type": "code",
   "execution_count": null,
   "metadata": {},
   "outputs": [],
   "source": [
    "print(x_train.shape, y_train.shape, x_test.shape, y_test.shape)"
   ]
  },
  {
   "cell_type": "code",
   "execution_count": null,
   "metadata": {},
   "outputs": [],
   "source": []
  }
 ],
 "metadata": {
  "kernelspec": {
   "display_name": "Python 3",
   "language": "python",
   "name": "python3"
  },
  "language_info": {
   "codemirror_mode": {
    "name": "ipython",
    "version": 3
   },
   "file_extension": ".py",
   "mimetype": "text/x-python",
   "name": "python",
   "nbconvert_exporter": "python",
   "pygments_lexer": "ipython3",
   "version": "3.6.8"
  }
 },
 "nbformat": 4,
 "nbformat_minor": 2
}
