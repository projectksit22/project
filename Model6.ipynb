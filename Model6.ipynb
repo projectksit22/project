{
 "cells": [
  {
   "cell_type": "markdown",
   "metadata": {},
   "source": [
    "# Comparision Graph"
   ]
  },
  {
   "cell_type": "code",
   "execution_count": null,
   "metadata": {},
   "outputs": [],
   "source": [
    "n_groups=3\n",
    "ind=np.arange(n_groups)\n",
    "algo=('RF','ANN','SVM')\n",
    "accuracy=(rf_acc,nn_acc,svm_acc)\n",
    "error=(1-rf_acc,1-nn_acc,1-svm_acc)\n",
    "print(accuracy,error)"
   ]
  },
  {
   "cell_type": "code",
   "execution_count": null,
   "metadata": {},
   "outputs": [],
   "source": [
    "fig,ax=plt.subplots(figsize=(7,5),dpi=80)\n",
    "bar_width=0.4\n",
    "opacity=0.9\n",
    "p1=plt.bar(ind,error,bar_width,alpha=opacity,color='red',label='error',bottom=accuracy)\n",
    "plt.title('Comparision Graph')\n",
    "plt.xticks(ind,algo)\n",
    "plt.xlabel('Algorithm')\n",
    "plt.ylabel('Scores')\n",
    "plt.legend()\n",
    "plt.tight_layout()\n",
    "plt.show()"
   ]
  }
 ],
 "metadata": {
  "kernelspec": {
   "display_name": "Python 3",
   "language": "python",
   "name": "python3"
  },
  "language_info": {
   "codemirror_mode": {
    "name": "ipython",
    "version": 3
   },
   "file_extension": ".py",
   "mimetype": "text/x-python",
   "name": "python",
   "nbconvert_exporter": "python",
   "pygments_lexer": "ipython3",
   "version": "3.6.8"
  }
 },
 "nbformat": 4,
 "nbformat_minor": 2
}
