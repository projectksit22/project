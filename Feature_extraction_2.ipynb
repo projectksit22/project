{
 "cells": [
  {
   "cell_type": "code",
   "execution_count": null,
   "metadata": {},
   "outputs": [],
   "source": [
    "# 6.Prefix_Suffix\n",
    "    if re.findall(r\"https?://[^\\-]+-[^\\-]+/\", url):\n",
    "        data_set.append(-1)\n",
    "    else:\n",
    "        data_set.append(1)\n",
    "\n",
    "    # 7.having_Sub_Domain\n",
    "    if len(re.findall(\"\\.\", url)) == 1:\n",
    "        data_set.append(1)\n",
    "    elif len(re.findall(\"\\.\", url)) == 2:\n",
    "        data_set.append(0)\n",
    "    else:\n",
    "        data_set.append(-1)\n",
    "\n",
    "    # 8.SSLfinal_State\n",
    "    try:\n",
    "        if response.text:\n",
    "            data_set.append(1)\n",
    "    except:\n",
    "        data_set.append(-1)\n",
    "\n",
    "    # 9.Domain_registeration_length\n",
    "    expiration_date = whois_response.expiration_date\n",
    "    registration_length = 0\n",
    "    try:\n",
    "        expiration_date = min(expiration_date)\n",
    "        today = time.strftime('%Y-%m-%d')\n",
    "        today = datetime.strptime(today, '%Y-%m-%d')\n",
    "        print(today)\n",
    "        registration_length = abs((expiration_date - today).days)\n",
    "\n",
    "        if registration_length / 365 <= 1:\n",
    "            data_set.append(-1)\n",
    "        else:\n",
    "            data_set.append(1)\n",
    "    except:\n",
    "        data_set.append(-1)\n",
    "\n",
    "    # 10.Favicon\n",
    "    if soup == -999:\n",
    "        data_set.append(-1)\n",
    "    else:\n",
    "        try:\n",
    "            for head in soup.find_all('head'):\n",
    "                for head.link in soup.find_all('link', href=True):\n",
    "                    dots = [x.start(0) for x in re.finditer('\\.', head.link['href'])]\n",
    "                    if url in head.link['href'] or len(dots) == 1 or domain in head.link['href']:\n",
    "                        data_set.append(1)\n",
    "                        raise StopIteration\n",
    "                    else:\n",
    "                        data_set.append(-1)\n",
    "                        raise StopIteration\n",
    "        except StopIteration:\n",
    "            pass"
   ]
  }
 ],
 "metadata": {
  "kernelspec": {
   "display_name": "Python 3",
   "language": "python",
   "name": "python3"
  },
  "language_info": {
   "codemirror_mode": {
    "name": "ipython",
    "version": 3
   },
   "file_extension": ".py",
   "mimetype": "text/x-python",
   "name": "python",
   "nbconvert_exporter": "python",
   "pygments_lexer": "ipython3",
   "version": "3.7.6"
  }
 },
 "nbformat": 4,
 "nbformat_minor": 4
}
