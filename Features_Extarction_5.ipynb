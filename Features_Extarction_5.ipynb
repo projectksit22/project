{
 "cells": [
  {
   "cell_type": "code",
   "execution_count": null,
   "metadata": {},
   "outputs": [],
   "source": [
    " #21. RightClick\n",
    "    if response == \"\":\n",
    "        data_set.append(-1)\n",
    "    else:\n",
    "        if re.findall(r\"event.button ?== ?2\", response.text):\n",
    "            data_set.append(-1)\n",
    "        else:\n",
    "            data_set.append(1)\n",
    "\n",
    "    #22. popUpWidnow\n",
    "    if response == \"\":\n",
    "        data_set.append(-1)\n",
    "    else:\n",
    "        if re.findall(r\"alert\\(\", response.text):\n",
    "            data_set.append(-1)\n",
    "        else:\n",
    "            data_set.append(1)\n",
    "\n",
    "    #23. Iframe\n",
    "    if response == \"\":\n",
    "        data_set.append(-1)\n",
    "    else:\n",
    "        if re.findall(r\"[<iframe>|<frameBorder>]\", response.text):\n",
    "            data_set.append(-1)\n",
    "        else:\n",
    "            data_set.append(1)\n",
    "\n",
    "    #24. age_of_domain\n",
    "    if response == \"\":\n",
    "        data_set.append(-1)\n",
    "    else:\n",
    "        try:\n",
    "            registration_date = re.findall(r'Registration Date:</div><div class=\"df-value\">([^<]+)</div>', whois_response.text)[0]\n",
    "            if diff_month(date.today(), date_parse(registration_date)) >= 6:\n",
    "                data_set.append(-1)\n",
    "            else:\n",
    "                data_set.append(1)\n",
    "        except:\n",
    "            data_set.append(1)\n",
    "\n",
    "    #25. DNSRecord\n",
    "    dns = 1\n",
    "    try:\n",
    "        d = whois.whois(domain)\n",
    "       \n",
    "    except:\n",
    "        dns=-1\n",
    "    if dns == -1:\n",
    "        data_set.append(-1)\n",
    "    else:\n",
    "        if registration_length / 365 <= 1:\n",
    "            data_set.append(-1)\n",
    "           \n",
    "        else:\n",
    "            data_set.append(1)\n",
    "    "
   ]
  }
 ],
 "metadata": {
  "kernelspec": {
   "display_name": "Python 3",
   "language": "python",
   "name": "python3"
  },
  "language_info": {
   "codemirror_mode": {
    "name": "ipython",
    "version": 3
   },
   "file_extension": ".py",
   "mimetype": "text/x-python",
   "name": "python",
   "nbconvert_exporter": "python",
   "pygments_lexer": "ipython3",
   "version": "3.7.6"
  }
 },
 "nbformat": 4,
 "nbformat_minor": 4
}
