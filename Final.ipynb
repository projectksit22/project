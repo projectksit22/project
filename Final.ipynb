{
 "cells": [
  {
   "cell_type": "code",
   "execution_count": null,
   "metadata": {},
   "outputs": [],
   "source": [
    "url=\"paypal.secure.server.de\"\n",
    "url1,global_rank=generate_data_set(url)\n",
    "print(url1)\n",
    "print(len(url1))\n",
    "d=dict()\n",
    "c=0\n",
    "for i in x_train.columns:\n",
    "    d[i]=url1[c]\n",
    "    c+=1\n",
    "dff=pd.DataFrame(columns=x_train.columns)\n",
    "dff=dff.append(d,ignore_index=True)\n",
    "mypred=forest.predict(dff)\n",
    "#print(mypred)\n",
    "if(mypred==1):\n",
    "    print('Legitimate Website')\n",
    "else:\n",
    "    print('Phishing Website')\n",
    "    "
   ]
  }
 ],
 "metadata": {
  "kernelspec": {
   "display_name": "Python 3",
   "language": "python",
   "name": "python3"
  },
  "language_info": {
   "codemirror_mode": {
    "name": "ipython",
    "version": 3
   },
   "file_extension": ".py",
   "mimetype": "text/x-python",
   "name": "python",
   "nbconvert_exporter": "python",
   "pygments_lexer": "ipython3",
   "version": "3.7.6"
  }
 },
 "nbformat": 4,
 "nbformat_minor": 4
}
